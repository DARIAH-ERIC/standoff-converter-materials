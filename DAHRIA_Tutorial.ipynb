{
  "nbformat": 4,
  "nbformat_minor": 0,
  "metadata": {
    "colab": {
      "provenance": [],
      "toc_visible": true
    },
    "kernelspec": {
      "name": "python3",
      "display_name": "Python 3"
    },
    "language_info": {
      "name": "python"
    }
  },
  "cells": [
    {
      "cell_type": "markdown",
      "source": [
        "## Connect to google drive"
      ],
      "metadata": {
        "id": "5OUZUGb412gg"
      }
    },
    {
      "cell_type": "code",
      "source": [
        "from google.colab import drive\n",
        "drive.mount('/content/drive', force_remount=True)"
      ],
      "metadata": {
        "colab": {
          "base_uri": "https://localhost:8080/"
        },
        "id": "WUapcG9WrWe-",
        "outputId": "6aa2bef2-0f8d-49e7-e1e1-4b26020ed64b"
      },
      "execution_count": 1,
      "outputs": [
        {
          "output_type": "stream",
          "name": "stdout",
          "text": [
            "Mounted at /content/drive\n"
          ]
        }
      ]
    },
    {
      "cell_type": "markdown",
      "source": [
        "## Install SpaCy models and StandoffConverter"
      ],
      "metadata": {
        "id": "StYy1nG_17EA"
      }
    },
    {
      "cell_type": "code",
      "source": [
        "!python -m spacy download en_core_web_trf de_core_news_lg > /dev/null\n",
        "!pip install -q standoffconverter\n",
        "!pip install -q spacy-transformers"
      ],
      "metadata": {
        "id": "v3bPKb4XrluN",
        "colab": {
          "base_uri": "https://localhost:8080/"
        },
        "outputId": "63e3eb04-04eb-4b8b-d83e-8f1133b02c0c"
      },
      "execution_count": 64,
      "outputs": [
        {
          "output_type": "stream",
          "name": "stdout",
          "text": [
            "2023-07-25 20:43:29.437917: W tensorflow/compiler/tf2tensorrt/utils/py_utils.cc:38] TF-TRT Warning: Could not find TensorRT\n"
          ]
        }
      ]
    },
    {
      "cell_type": "markdown",
      "source": [
        "# Tutorial Start"
      ],
      "metadata": {
        "id": "YZ8wNYSpzHEF"
      }
    },
    {
      "cell_type": "markdown",
      "source": [
        "## Import libraries"
      ],
      "metadata": {
        "id": "hFUk_9DBrtra"
      }
    },
    {
      "cell_type": "code",
      "source": [
        "from lxml import etree\n",
        "from standoffconverter import Standoff, View\n",
        "\n",
        "import spacy\n",
        "import spacy_transformers\n",
        "ner_dict = {'en': 'en_core_web_trf',\n",
        "            'de': 'de_core_news_lg'}\n",
        "import pandas as pd"
      ],
      "metadata": {
        "id": "QYlZ3znPrzld"
      },
      "execution_count": 4,
      "outputs": []
    },
    {
      "cell_type": "markdown",
      "source": [
        "## Set input and output file paths"
      ],
      "metadata": {
        "id": "Ghuj06tEy-74"
      }
    },
    {
      "cell_type": "code",
      "source": [
        "xml_path = '/content/IL-MTFN-001-G-F-0353-18.xml'\n",
        "so_ner_result = '/content/IL-MTFN-001-G-F-0353-18_so_ner_results.xml'"
      ],
      "metadata": {
        "id": "YKuOdCZodvcH"
      },
      "execution_count": 68,
      "outputs": []
    },
    {
      "cell_type": "markdown",
      "source": [
        "## Load XML-TEI and parse it with Standoff"
      ],
      "metadata": {
        "id": "L0gQZIKD05CH"
      }
    },
    {
      "cell_type": "code",
      "source": [
        "# parser = etree.XMLParser(remove_blank_text=True)\n",
        "tree = etree.parse(xml_path)\n",
        "namespaces = {'tei': 'http://www.tei-c.org/ns/1.0'}\n",
        "so = Standoff(tree, namespaces)"
      ],
      "metadata": {
        "id": "pEDr7zJepBdX"
      },
      "execution_count": 69,
      "outputs": []
    },
    {
      "cell_type": "code",
      "source": [
        "so.plain[:1000]"
      ],
      "metadata": {
        "colab": {
          "base_uri": "https://localhost:8080/",
          "height": 127
        },
        "id": "yh5_xyMf1DxU",
        "outputId": "56f36e4d-5adb-45e4-873d-7aa2bde53dc7"
      },
      "execution_count": 70,
      "outputs": [
        {
          "output_type": "execute_result",
          "data": {
            "text/plain": [
              "'\\n\\t\\t\\n\\t\\t\\t\\n\\t\\t\\t\\n\\t\\t\\t\\t\\n\\t\\t\\t\\t\\tDuveen Brothers\\n\\t\\t\\t\\t\\t720 Fith Avenue\\n\\t\\t\\t\\t\\tNew York\\n\\t\\t\\t\\t\\tJanuary 5th, 1928\\n\\t\\t\\t\\t\\tMy dear Kr. Miller:\\n\\t\\t\\t\\t\\tThe bearer of this letter is my friend,\\n\\t\\t\\t\\t\\tMr. Hermann Struck, for whose work as an artist I\\n\\t\\t\\t\\t\\thave the greatest admiration. He will explain the\\n\\t\\t\\t\\t\\treason he wishes to see you, and anything that you\\n\\t\\t\\t\\t\\tmay be able to do for him I shall greatly appreciate.\\n\\t\\t\\t\\t\\tBelieve me\\n\\t\\t\\t\\t\\tYours sincerely,\\n\\t\\t\\t\\t\\tJoseph Duveen\\n\\t\\t\\t\\t\\n\\t\\t\\t\\n\\t\\t\\t\\n\\t\\t\\t\\t\\n\\t\\t\\t\\t\\tHy. Miller, Esq.\\n\\t\\t\\t\\t\\tMessrs. Arthur Ackerman & Son,\\n\\t\\t\\t\\t\\t50 East 57th Street,\\n\\t\\t\\t\\t\\tNew York City.\\n\\t\\t\\t\\t\\tJD:HF\\n\\t\\t\\t\\t\\n\\t\\t\\t\\n\\t\\t\\t\\n\\t\\t\\t\\n\\t\\t\\t\\t\\n\\t\\t\\t\\t\\t52 William Street \\n\\t\\t\\t\\t\\tNew York\\n\\t\\t\\t\\t\\tMarch 8. 1928\\n\\t\\t\\t\\t\\tHermann Struck, Esq.,\\n\\t\\t\\t\\t\\tHotel Majestic,\\n\\t\\t\\t\\t\\t72nd Street and Central Park,\\n\\t\\t\\t\\t\\tNew York, N.Y.\\n\\t\\t\\t\\t\\tDear Mr. Struck:\\n\\t\\t\\t\\t\\tThank you very much for sending me the\\n\\t\\t\\t\\t\\tetchings which I think are as pleasing as the subject\\n\\t\\t\\t\\t\\tpermitted you to make. There were not nine, but\\n\\t\\t\\t\\t\\teight and I have marked two of them as first and\\n\\t\\t\\t\\t\\t'"
            ],
            "application/vnd.google.colaboratory.intrinsic+json": {
              "type": "string"
            }
          },
          "metadata": {},
          "execution_count": 70
        }
      ]
    },
    {
      "cell_type": "markdown",
      "source": [
        "## Preprocessing"
      ],
      "metadata": {
        "id": "MVOEwmKx2Wz-"
      }
    },
    {
      "cell_type": "markdown",
      "source": [
        "### Clear tabs and newlines"
      ],
      "metadata": {
        "id": "ocE3Y3A81Cvc"
      }
    },
    {
      "cell_type": "code",
      "source": [
        "view = View(so).shrink_whitespace()\n",
        "plain = view.get_plain()\n",
        "plain[:1000]"
      ],
      "metadata": {
        "colab": {
          "base_uri": "https://localhost:8080/",
          "height": 163
        },
        "id": "e8G-7rWopBfg",
        "outputId": "8ee3c24d-0780-4719-af84-111a831b377b"
      },
      "execution_count": 71,
      "outputs": [
        {
          "output_type": "stream",
          "name": "stderr",
          "text": [
            "create view: 100%|██████████| 1035/1035 [00:00<00:00, 4437.43it/s]\n",
            "shrink whitespace: 100%|██████████| 7893/7893 [00:00<00:00, 11596.15it/s]\n"
          ]
        },
        {
          "output_type": "execute_result",
          "data": {
            "text/plain": [
              "' Duveen Brothers 720 Fith Avenue New York January 5th, 1928 My dear Kr. Miller: The bearer of this letter is my friend, Mr. Hermann Struck, for whose work as an artist I have the greatest admiration. He will explain the reason he wishes to see you, and anything that you may be able to do for him I shall greatly appreciate. Believe me Yours sincerely, Joseph Duveen Hy. Miller, Esq. Messrs. Arthur Ackerman & Son, 50 East 57th Street, New York City. JD:HF 52 William Street New York March 8. 1928 Hermann Struck, Esq., Hotel Majestic, 72nd Street and Central Park, New York, N.Y. Dear Mr. Struck: Thank you very much for sending me the etchings which I think are as pleasing as the subject permitted you to make. There were not nine, but eight and I have marked two of them as first and second choice. Altogether, I think I would like to have about twenty copies for the time being. Should there be an unexpectedly large demand I will ask for some more prints. Meanwhile I thank you very much for th'"
            ],
            "application/vnd.google.colaboratory.intrinsic+json": {
              "type": "string"
            }
          },
          "metadata": {},
          "execution_count": 71
        }
      ]
    },
    {
      "cell_type": "markdown",
      "source": [
        "## NER"
      ],
      "metadata": {
        "id": "BAYbfftc2gIe"
      }
    },
    {
      "cell_type": "markdown",
      "source": [
        "### Download english transformer"
      ],
      "metadata": {
        "id": "0rwNEic91WVX"
      }
    },
    {
      "cell_type": "code",
      "source": [
        "nlp = spacy.load(\"en_core_web_trf\")"
      ],
      "metadata": {
        "id": "yAIyfGv3pWA_"
      },
      "execution_count": 72,
      "outputs": []
    },
    {
      "cell_type": "markdown",
      "source": [
        "### Process text for NER"
      ],
      "metadata": {
        "id": "VOCqYxOx1b_6"
      }
    },
    {
      "cell_type": "code",
      "source": [
        "doc = nlp(plain)"
      ],
      "metadata": {
        "id": "YHE3wJuYpWDk"
      },
      "execution_count": 73,
      "outputs": []
    },
    {
      "cell_type": "code",
      "source": [
        "doc_results = {'entity_name': [entity.text for entity in doc.ents],\n",
        "               'entity_label': [entity.label_ for entity in doc.ents]}\n",
        "ner_df = pd.DataFrame(doc_results).set_index('entity_name')\n",
        "\n",
        "ner_df"
      ],
      "metadata": {
        "id": "uGv2q1mICun3",
        "colab": {
          "base_uri": "https://localhost:8080/",
          "height": 455
        },
        "outputId": "3e302053-cd14-471b-ffbc-bc9513c5e917"
      },
      "execution_count": 74,
      "outputs": [
        {
          "output_type": "execute_result",
          "data": {
            "text/plain": [
              "                     entity_label\n",
              "entity_name                      \n",
              "Duveen Brothers               ORG\n",
              "New York                      GPE\n",
              "January 5th, 1928            DATE\n",
              "Kr.                        PERSON\n",
              "Miller                     PERSON\n",
              "...                           ...\n",
              "Roger van der Weyden       PERSON\n",
              "Mellon                     PERSON\n",
              "New York                      GPE\n",
              "Mount Carmel                  LOC\n",
              "Duveen                     PERSON\n",
              "\n",
              "[103 rows x 1 columns]"
            ],
            "text/html": [
              "\n",
              "\n",
              "  <div id=\"df-e509ddfd-9e99-497c-af4e-5e4a8fe5f0a0\">\n",
              "    <div class=\"colab-df-container\">\n",
              "      <div>\n",
              "<style scoped>\n",
              "    .dataframe tbody tr th:only-of-type {\n",
              "        vertical-align: middle;\n",
              "    }\n",
              "\n",
              "    .dataframe tbody tr th {\n",
              "        vertical-align: top;\n",
              "    }\n",
              "\n",
              "    .dataframe thead th {\n",
              "        text-align: right;\n",
              "    }\n",
              "</style>\n",
              "<table border=\"1\" class=\"dataframe\">\n",
              "  <thead>\n",
              "    <tr style=\"text-align: right;\">\n",
              "      <th></th>\n",
              "      <th>entity_label</th>\n",
              "    </tr>\n",
              "    <tr>\n",
              "      <th>entity_name</th>\n",
              "      <th></th>\n",
              "    </tr>\n",
              "  </thead>\n",
              "  <tbody>\n",
              "    <tr>\n",
              "      <th>Duveen Brothers</th>\n",
              "      <td>ORG</td>\n",
              "    </tr>\n",
              "    <tr>\n",
              "      <th>New York</th>\n",
              "      <td>GPE</td>\n",
              "    </tr>\n",
              "    <tr>\n",
              "      <th>January 5th, 1928</th>\n",
              "      <td>DATE</td>\n",
              "    </tr>\n",
              "    <tr>\n",
              "      <th>Kr.</th>\n",
              "      <td>PERSON</td>\n",
              "    </tr>\n",
              "    <tr>\n",
              "      <th>Miller</th>\n",
              "      <td>PERSON</td>\n",
              "    </tr>\n",
              "    <tr>\n",
              "      <th>...</th>\n",
              "      <td>...</td>\n",
              "    </tr>\n",
              "    <tr>\n",
              "      <th>Roger van der Weyden</th>\n",
              "      <td>PERSON</td>\n",
              "    </tr>\n",
              "    <tr>\n",
              "      <th>Mellon</th>\n",
              "      <td>PERSON</td>\n",
              "    </tr>\n",
              "    <tr>\n",
              "      <th>New York</th>\n",
              "      <td>GPE</td>\n",
              "    </tr>\n",
              "    <tr>\n",
              "      <th>Mount Carmel</th>\n",
              "      <td>LOC</td>\n",
              "    </tr>\n",
              "    <tr>\n",
              "      <th>Duveen</th>\n",
              "      <td>PERSON</td>\n",
              "    </tr>\n",
              "  </tbody>\n",
              "</table>\n",
              "<p>103 rows × 1 columns</p>\n",
              "</div>\n",
              "      <button class=\"colab-df-convert\" onclick=\"convertToInteractive('df-e509ddfd-9e99-497c-af4e-5e4a8fe5f0a0')\"\n",
              "              title=\"Convert this dataframe to an interactive table.\"\n",
              "              style=\"display:none;\">\n",
              "\n",
              "  <svg xmlns=\"http://www.w3.org/2000/svg\" height=\"24px\"viewBox=\"0 0 24 24\"\n",
              "       width=\"24px\">\n",
              "    <path d=\"M0 0h24v24H0V0z\" fill=\"none\"/>\n",
              "    <path d=\"M18.56 5.44l.94 2.06.94-2.06 2.06-.94-2.06-.94-.94-2.06-.94 2.06-2.06.94zm-11 1L8.5 8.5l.94-2.06 2.06-.94-2.06-.94L8.5 2.5l-.94 2.06-2.06.94zm10 10l.94 2.06.94-2.06 2.06-.94-2.06-.94-.94-2.06-.94 2.06-2.06.94z\"/><path d=\"M17.41 7.96l-1.37-1.37c-.4-.4-.92-.59-1.43-.59-.52 0-1.04.2-1.43.59L10.3 9.45l-7.72 7.72c-.78.78-.78 2.05 0 2.83L4 21.41c.39.39.9.59 1.41.59.51 0 1.02-.2 1.41-.59l7.78-7.78 2.81-2.81c.8-.78.8-2.07 0-2.86zM5.41 20L4 18.59l7.72-7.72 1.47 1.35L5.41 20z\"/>\n",
              "  </svg>\n",
              "      </button>\n",
              "\n",
              "\n",
              "\n",
              "    <div id=\"df-4190d243-959b-4c7c-b1b9-fc3afb7cccc2\">\n",
              "      <button class=\"colab-df-quickchart\" onclick=\"quickchart('df-4190d243-959b-4c7c-b1b9-fc3afb7cccc2')\"\n",
              "              title=\"Suggest charts.\"\n",
              "              style=\"display:none;\">\n",
              "\n",
              "<svg xmlns=\"http://www.w3.org/2000/svg\" height=\"24px\"viewBox=\"0 0 24 24\"\n",
              "     width=\"24px\">\n",
              "    <g>\n",
              "        <path d=\"M19 3H5c-1.1 0-2 .9-2 2v14c0 1.1.9 2 2 2h14c1.1 0 2-.9 2-2V5c0-1.1-.9-2-2-2zM9 17H7v-7h2v7zm4 0h-2V7h2v10zm4 0h-2v-4h2v4z\"/>\n",
              "    </g>\n",
              "</svg>\n",
              "      </button>\n",
              "    </div>\n",
              "\n",
              "<style>\n",
              "  .colab-df-quickchart {\n",
              "    background-color: #E8F0FE;\n",
              "    border: none;\n",
              "    border-radius: 50%;\n",
              "    cursor: pointer;\n",
              "    display: none;\n",
              "    fill: #1967D2;\n",
              "    height: 32px;\n",
              "    padding: 0 0 0 0;\n",
              "    width: 32px;\n",
              "  }\n",
              "\n",
              "  .colab-df-quickchart:hover {\n",
              "    background-color: #E2EBFA;\n",
              "    box-shadow: 0px 1px 2px rgba(60, 64, 67, 0.3), 0px 1px 3px 1px rgba(60, 64, 67, 0.15);\n",
              "    fill: #174EA6;\n",
              "  }\n",
              "\n",
              "  [theme=dark] .colab-df-quickchart {\n",
              "    background-color: #3B4455;\n",
              "    fill: #D2E3FC;\n",
              "  }\n",
              "\n",
              "  [theme=dark] .colab-df-quickchart:hover {\n",
              "    background-color: #434B5C;\n",
              "    box-shadow: 0px 1px 3px 1px rgba(0, 0, 0, 0.15);\n",
              "    filter: drop-shadow(0px 1px 2px rgba(0, 0, 0, 0.3));\n",
              "    fill: #FFFFFF;\n",
              "  }\n",
              "</style>\n",
              "\n",
              "    <script>\n",
              "      async function quickchart(key) {\n",
              "        const containerElement = document.querySelector('#' + key);\n",
              "        const charts = await google.colab.kernel.invokeFunction(\n",
              "            'suggestCharts', [key], {});\n",
              "      }\n",
              "    </script>\n",
              "\n",
              "      <script>\n",
              "\n",
              "function displayQuickchartButton(domScope) {\n",
              "  let quickchartButtonEl =\n",
              "    domScope.querySelector('#df-4190d243-959b-4c7c-b1b9-fc3afb7cccc2 button.colab-df-quickchart');\n",
              "  quickchartButtonEl.style.display =\n",
              "    google.colab.kernel.accessAllowed ? 'block' : 'none';\n",
              "}\n",
              "\n",
              "        displayQuickchartButton(document);\n",
              "      </script>\n",
              "      <style>\n",
              "    .colab-df-container {\n",
              "      display:flex;\n",
              "      flex-wrap:wrap;\n",
              "      gap: 12px;\n",
              "    }\n",
              "\n",
              "    .colab-df-convert {\n",
              "      background-color: #E8F0FE;\n",
              "      border: none;\n",
              "      border-radius: 50%;\n",
              "      cursor: pointer;\n",
              "      display: none;\n",
              "      fill: #1967D2;\n",
              "      height: 32px;\n",
              "      padding: 0 0 0 0;\n",
              "      width: 32px;\n",
              "    }\n",
              "\n",
              "    .colab-df-convert:hover {\n",
              "      background-color: #E2EBFA;\n",
              "      box-shadow: 0px 1px 2px rgba(60, 64, 67, 0.3), 0px 1px 3px 1px rgba(60, 64, 67, 0.15);\n",
              "      fill: #174EA6;\n",
              "    }\n",
              "\n",
              "    [theme=dark] .colab-df-convert {\n",
              "      background-color: #3B4455;\n",
              "      fill: #D2E3FC;\n",
              "    }\n",
              "\n",
              "    [theme=dark] .colab-df-convert:hover {\n",
              "      background-color: #434B5C;\n",
              "      box-shadow: 0px 1px 3px 1px rgba(0, 0, 0, 0.15);\n",
              "      filter: drop-shadow(0px 1px 2px rgba(0, 0, 0, 0.3));\n",
              "      fill: #FFFFFF;\n",
              "    }\n",
              "  </style>\n",
              "\n",
              "      <script>\n",
              "        const buttonEl =\n",
              "          document.querySelector('#df-e509ddfd-9e99-497c-af4e-5e4a8fe5f0a0 button.colab-df-convert');\n",
              "        buttonEl.style.display =\n",
              "          google.colab.kernel.accessAllowed ? 'block' : 'none';\n",
              "\n",
              "        async function convertToInteractive(key) {\n",
              "          const element = document.querySelector('#df-e509ddfd-9e99-497c-af4e-5e4a8fe5f0a0');\n",
              "          const dataTable =\n",
              "            await google.colab.kernel.invokeFunction('convertToInteractive',\n",
              "                                                     [key], {});\n",
              "          if (!dataTable) return;\n",
              "\n",
              "          const docLinkHtml = 'Like what you see? Visit the ' +\n",
              "            '<a target=\"_blank\" href=https://colab.research.google.com/notebooks/data_table.ipynb>data table notebook</a>'\n",
              "            + ' to learn more about interactive tables.';\n",
              "          element.innerHTML = '';\n",
              "          dataTable['output_type'] = 'display_data';\n",
              "          await google.colab.output.renderOutput(dataTable, element);\n",
              "          const docLink = document.createElement('div');\n",
              "          docLink.innerHTML = docLinkHtml;\n",
              "          element.appendChild(docLink);\n",
              "        }\n",
              "      </script>\n",
              "    </div>\n",
              "  </div>\n"
            ]
          },
          "metadata": {},
          "execution_count": 74
        }
      ]
    },
    {
      "cell_type": "markdown",
      "source": [
        "## Annotation"
      ],
      "metadata": {
        "id": "Qc4JYkPi2kPd"
      }
    },
    {
      "cell_type": "markdown",
      "source": [
        "### NER Inline annotation\n",
        "#### ISSUE with `add_inline()`:\n",
        "Error: `ValueError: no unique context found`\\\n",
        "This error occurs when we are trying to add inline tags. The reason for the error is unclear.\n",
        "\n",
        "Current workaround is to sorround `add_inline` with a `try/except` block."
      ],
      "metadata": {
        "id": "c4wxohhg1jYp"
      }
    },
    {
      "cell_type": "code",
      "source": [
        "for i, ent in enumerate(doc.ents):\n",
        "  start_ind = view.get_table_pos(ent.start_char)\n",
        "  end_ind = view.get_table_pos(ent.end_char)\n",
        "  label = ent.label_\n",
        "\n",
        "  print(f'{i} {start_ind=}\\t{end_ind=}\\t{label=}')\n",
        "\n",
        "  try:\n",
        "    so.add_inline(\n",
        "        begin=start_ind,\n",
        "        end=end_ind,\n",
        "        tag=ent.label_,\n",
        "        depth=None,\n",
        "        attrib={}\n",
        "    )\n",
        "  except Exception as e:\n",
        "    print(e)"
      ],
      "metadata": {
        "colab": {
          "base_uri": "https://localhost:8080/"
        },
        "id": "asYScRwIqdVy",
        "outputId": "eb9096de-8c0c-466f-8317-69b9fd8ea411"
      },
      "execution_count": 75,
      "outputs": [
        {
          "output_type": "stream",
          "name": "stdout",
          "text": [
            "0 start_ind=22\tend_ind=37\tlabel='ORG'\n",
            "1 start_ind=64\tend_ind=72\tlabel='GPE'\n",
            "2 start_ind=78\tend_ind=95\tlabel='DATE'\n",
            "3 start_ind=109\tend_ind=112\tlabel='PERSON'\n",
            "4 start_ind=113\tend_ind=119\tlabel='PERSON'\n",
            "5 start_ind=175\tend_ind=189\tlabel='PERSON'\n",
            "6 start_ind=434\tend_ind=481\tlabel='PERSON'\n",
            "no unique context found\n",
            "7 start_ind=501\tend_ind=516\tlabel='PERSON'\n",
            "8 start_ind=529\tend_ind=531\tlabel='CARDINAL'\n",
            "9 start_ind=555\tend_ind=568\tlabel='GPE'\n",
            "10 start_ind=608\tend_ind=610\tlabel='CARDINAL'\n",
            "11 start_ind=632\tend_ind=640\tlabel='GPE'\n",
            "12 start_ind=646\tend_ind=653\tlabel='DATE'\n",
            "13 start_ind=655\tend_ind=659\tlabel='DATE'\n",
            "14 start_ind=665\tend_ind=685\tlabel='ORG'\n",
            "15 start_ind=692\tend_ind=706\tlabel='ORG'\n",
            "16 start_ind=713\tend_ind=724\tlabel='FAC'\n",
            "17 start_ind=729\tend_ind=741\tlabel='LOC'\n",
            "18 start_ind=748\tend_ind=756\tlabel='GPE'\n",
            "19 start_ind=758\tend_ind=762\tlabel='GPE'\n",
            "20 start_ind=777\tend_ind=783\tlabel='PERSON'\n",
            "21 start_ind=931\tend_ind=935\tlabel='CARDINAL'\n",
            "22 start_ind=946\tend_ind=951\tlabel='CARDINAL'\n",
            "23 start_ind=970\tend_ind=973\tlabel='CARDINAL'\n",
            "24 start_ind=985\tend_ind=990\tlabel='ORDINAL'\n",
            "25 start_ind=1000\tend_ind=1006\tlabel='ORDINAL'\n",
            "26 start_ind=1061\tend_ind=1073\tlabel='CARDINAL'\n",
            "27 start_ind=1445\tend_ind=1458\tlabel='PERSON'\n",
            "28 start_ind=1494\tend_ind=1497\tlabel='CARDINAL'\n",
            "29 start_ind=1522\tend_ind=1536\tlabel='DATE'\n",
            "30 start_ind=1542\tend_ind=1556\tlabel='PERSON'\n",
            "31 start_ind=1589\tend_ind=1605\tlabel='FAC'\n",
            "32 start_ind=1612\tend_ind=1620\tlabel='GPE'\n",
            "33 start_ind=1622\tend_ind=1626\tlabel='GPE'\n",
            "34 start_ind=1641\tend_ind=1647\tlabel='PERSON'\n",
            "35 start_ind=1747\tend_ind=1752\tlabel='MONEY'\n",
            "36 start_ind=1806\tend_ind=1823\tlabel='CARDINAL'\n",
            "no unique context found\n",
            "37 start_ind=1993\tend_ind=2001\tlabel='GPE'\n",
            "38 start_ind=2007\tend_ind=2019\tlabel='DATE'\n",
            "39 start_ind=2086\tend_ind=2094\tlabel='GPE'\n",
            "40 start_ind=2096\tend_ind=2100\tlabel='GPE'\n",
            "41 start_ind=2115\tend_ind=2121\tlabel='PERSON'\n",
            "42 start_ind=2556\tend_ind=2562\tlabel='PERSON'\n",
            "43 start_ind=2592\tend_ind=2607\tlabel='PERSON'\n",
            "44 start_ind=2686\tend_ind=2694\tlabel='GPE'\n",
            "45 start_ind=2700\tend_ind=2713\tlabel='DATE'\n",
            "46 start_ind=2791\tend_ind=2803\tlabel='FAC'\n",
            "47 start_ind=2814\tend_ind=2822\tlabel='GPE'\n",
            "48 start_ind=2824\tend_ind=2828\tlabel='GPE'\n",
            "49 start_ind=2843\tend_ind=2849\tlabel='PERSON'\n",
            "50 start_ind=2892\tend_ind=2895\tlabel='ORDINAL'\n",
            "51 start_ind=3151\tend_ind=3155\tlabel='MONEY'\n",
            "52 start_ind=3260\tend_ind=3266\tlabel='PERSON'\n",
            "53 start_ind=3302\tend_ind=3326\tlabel='ORG'\n",
            "no unique context found\n",
            "54 start_ind=3396\tend_ind=3435\tlabel='ORG'\n",
            "no unique context found\n",
            "55 start_ind=3459\tend_ind=3467\tlabel='GPE'\n",
            "56 start_ind=3529\tend_ind=3541\tlabel='DATE'\n",
            "57 start_ind=3569\tend_ind=3583\tlabel='PERSON'\n",
            "58 start_ind=3645\tend_ind=3658\tlabel='GPE'\n",
            "59 start_ind=3676\tend_ind=3682\tlabel='PERSON'\n",
            "60 start_ind=3711\tend_ind=3720\tlabel='DATE'\n",
            "61 start_ind=3942\tend_ind=3945\tlabel='CARDINAL'\n",
            "62 start_ind=3987\tend_ind=3994\tlabel='DATE'\n",
            "63 start_ind=4085\tend_ind=4088\tlabel='CARDINAL'\n",
            "64 start_ind=4233\tend_ind=4237\tlabel='PERSON'\n",
            "65 start_ind=4283\tend_ind=4285\tlabel='MONEY'\n",
            "66 start_ind=4314\tend_ind=4339\tlabel='ORG'\n",
            "67 start_ind=4389\tend_ind=4399\tlabel='PERSON'\n",
            "68 start_ind=4410\tend_ind=4417\tlabel='PERSON'\n",
            "69 start_ind=4557\tend_ind=4579\tlabel='DATE'\n",
            "no unique context found\n",
            "70 start_ind=4681\tend_ind=4697\tlabel='PERSON'\n",
            "71 start_ind=4721\tend_ind=4728\tlabel='PERSON'\n",
            "72 start_ind=4768\tend_ind=4792\tlabel='ORG'\n",
            "no unique context found\n",
            "73 start_ind=4821\tend_ind=4829\tlabel='GPE'\n",
            "74 start_ind=4835\tend_ind=4849\tlabel='DATE'\n",
            "75 start_ind=4865\tend_ind=4871\tlabel='PERSON'\n",
            "76 start_ind=4955\tend_ind=4961\tlabel='LOC'\n",
            "77 start_ind=5194\tend_ind=5200\tlabel='PERSON'\n",
            "78 start_ind=5203\tend_ind=5222\tlabel='PERSON'\n",
            "no unique context found\n",
            "79 start_ind=5226\tend_ind=5244\tlabel='WORK_OF_ART'\n",
            "80 start_ind=5456\tend_ind=5469\tlabel='PERSON'\n",
            "81 start_ind=5510\tend_ind=5524\tlabel='ORG'\n",
            "82 start_ind=5531\tend_ind=5548\tlabel='FAC'\n",
            "83 start_ind=5566\tend_ind=5579\tlabel='GPE'\n",
            "84 start_ind=5693\tend_ind=5696\tlabel='CARDINAL'\n",
            "85 start_ind=5718\tend_ind=5731\tlabel='GPE'\n",
            "86 start_ind=5737\tend_ind=5749\tlabel='DATE'\n",
            "87 start_ind=5760\tend_ind=5775\tlabel='PERSON'\n",
            "88 start_ind=5815\tend_ind=5821\tlabel='PERSON'\n",
            "89 start_ind=5828\tend_ind=5867\tlabel='ORG'\n",
            "90 start_ind=6144\tend_ind=6156\tlabel='PERSON'\n",
            "91 start_ind=6183\tend_ind=6199\tlabel='PERSON'\n",
            "92 start_ind=6319\tend_ind=6334\tlabel='DATE'\n",
            "93 start_ind=6345\tend_ind=6359\tlabel='PERSON'\n",
            "94 start_ind=6366\tend_ind=6378\tlabel='ORG'\n",
            "95 start_ind=6385\tend_ind=6390\tlabel='GPE'\n",
            "96 start_ind=6409\tend_ind=6415\tlabel='PERSON'\n",
            "97 start_ind=6478\tend_ind=6491\tlabel='DATE'\n",
            "98 start_ind=6667\tend_ind=6687\tlabel='PERSON'\n",
            "99 start_ind=6700\tend_ind=6706\tlabel='PERSON'\n",
            "100 start_ind=6786\tend_ind=6794\tlabel='GPE'\n",
            "101 start_ind=7101\tend_ind=7113\tlabel='LOC'\n",
            "102 start_ind=7354\tend_ind=7360\tlabel='PERSON'\n"
          ]
        }
      ]
    },
    {
      "cell_type": "markdown",
      "source": [
        "#### Text element output"
      ],
      "metadata": {
        "id": "n1WHjVuW1uG5"
      }
    },
    {
      "cell_type": "code",
      "source": [
        "etree.tostring(so.text_el).decode(\"utf-8\")[:1000]"
      ],
      "metadata": {
        "colab": {
          "base_uri": "https://localhost:8080/",
          "height": 127
        },
        "id": "T0HffcndsVRj",
        "outputId": "227025a3-ca8f-4c64-e8d4-c213815e32a2"
      },
      "execution_count": 76,
      "outputs": [
        {
          "output_type": "execute_result",
          "data": {
            "text/plain": [
              "'<text xmlns=\"http://www.tei-c.org/ns/1.0\">\\n\\t\\t<body>\\n\\t\\t\\t<pb facs=\"#facs_4\" xml:id=\"IL-MTFN-001-G-F-0353-18_0001_0004.jpg\" n=\"4\"/>\\n\\t\\t\\t<p facs=\"#facs_4_tr_1\">\\n\\t\\t\\t\\t<lg>\\n\\t\\t\\t\\t\\t<l facs=\"#facs_4_tr_1_tl_1\"><ORG>Duveen Brothers</ORG></l>\\n\\t\\t\\t\\t\\t<l facs=\"#facs_4_tr_1_tl_2\">720 Fith Avenue</l>\\n\\t\\t\\t\\t\\t<l facs=\"#facs_4_tr_1_tl_3\"><GPE>New York</GPE></l>\\n\\t\\t\\t\\t\\t<l facs=\"#facs_4_tr_1_tl_4\"><DATE>January 5th, 1928</DATE></l>\\n\\t\\t\\t\\t\\t<l facs=\"#facs_4_tr_1_tl_5\">My dear <PERSON>Kr.</PERSON> <PERSON>Miller</PERSON>:</l>\\n\\t\\t\\t\\t\\t<l facs=\"#facs_4_tr_1_tl_6\">The bearer of this letter is my friend,</l>\\n\\t\\t\\t\\t\\t<l facs=\"#facs_4_tr_1_tl_7\">Mr. <PERSON>Hermann Struck</PERSON>, for whose work as an artist I</l>\\n\\t\\t\\t\\t\\t<l facs=\"#facs_4_tr_1_tl_8\">have the greatest admiration. He will explain the</l>\\n\\t\\t\\t\\t\\t<l facs=\"#facs_4_tr_1_tl_9\">reason he wishes to see you, and anything that you</l>\\n\\t\\t\\t\\t\\t<l facs=\"#facs_4_tr_1_tl_10\">may be able to do for him I shall greatly appreciate.</l>\\n\\t\\t\\t\\t\\t<l facs=\"#facs_4_tr_1_tl_11\">Believe me</l>\\n\\t\\t\\t\\t\\t'"
            ],
            "application/vnd.google.colaboratory.intrinsic+json": {
              "type": "string"
            }
          },
          "metadata": {},
          "execution_count": 76
        }
      ]
    },
    {
      "cell_type": "markdown",
      "source": [
        "## Export"
      ],
      "metadata": {
        "id": "n7y9-LjjhIed"
      }
    },
    {
      "cell_type": "code",
      "source": [
        "etree.ElementTree(so.tree.getroot()).write(so_ner_result)"
      ],
      "metadata": {
        "id": "eZ6_Pp4twJrk"
      },
      "execution_count": 59,
      "outputs": []
    }
  ]
}